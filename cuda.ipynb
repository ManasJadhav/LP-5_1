{
  "nbformat": 4,
  "nbformat_minor": 0,
  "metadata": {
    "colab": {
      "provenance": [],
      "gpuType": "T4"
    },
    "kernelspec": {
      "name": "python3",
      "display_name": "Python 3"
    },
    "language_info": {
      "name": "python"
    },
    "accelerator": "GPU"
  },
  "cells": [
    {
      "cell_type": "code",
      "execution_count": 1,
      "metadata": {
        "colab": {
          "base_uri": "https://localhost:8080/"
        },
        "id": "RmQpwYatTJl5",
        "outputId": "729e2968-dde0-4aab-fb11-76e9d5a6e9fc"
      },
      "outputs": [
        {
          "output_type": "stream",
          "name": "stdout",
          "text": [
            "nvcc: NVIDIA (R) Cuda compiler driver\n",
            "Copyright (c) 2005-2023 NVIDIA Corporation\n",
            "Built on Tue_Aug_15_22:02:13_PDT_2023\n",
            "Cuda compilation tools, release 12.2, V12.2.140\n",
            "Build cuda_12.2.r12.2/compiler.33191640_0\n"
          ]
        }
      ],
      "source": [
        "!/usr/local/cuda/bin/nvcc --version"
      ]
    },
    {
      "cell_type": "code",
      "source": [
        "!pip install git+https://github.com/afnan47/cuda.git\n"
      ],
      "metadata": {
        "colab": {
          "base_uri": "https://localhost:8080/"
        },
        "id": "Qh5566GcTN2a",
        "outputId": "fc250b82-60d9-41b7-acac-2441ba49830b"
      },
      "execution_count": 1,
      "outputs": [
        {
          "output_type": "stream",
          "name": "stdout",
          "text": [
            "Collecting git+https://github.com/afnan47/cuda.git\n",
            "  Cloning https://github.com/afnan47/cuda.git to /tmp/pip-req-build-zns2v0fh\n",
            "  Running command git clone --filter=blob:none --quiet https://github.com/afnan47/cuda.git /tmp/pip-req-build-zns2v0fh\n",
            "  Resolved https://github.com/afnan47/cuda.git to commit aac710a35f52bb78ab34d2e52517237941399eff\n",
            "  Preparing metadata (setup.py) ... \u001b[?25l\u001b[?25hdone\n",
            "Building wheels for collected packages: NVCCPlugin\n",
            "  Building wheel for NVCCPlugin (setup.py) ... \u001b[?25l\u001b[?25hdone\n",
            "  Created wheel for NVCCPlugin: filename=NVCCPlugin-0.0.2-py3-none-any.whl size=4289 sha256=1f04312f70c21259f7aef0d939cc814512a1b13701124cda7f03090615965011\n",
            "  Stored in directory: /tmp/pip-ephem-wheel-cache-2t0twv9b/wheels/aa/f3/44/e10c1d226ec561d971fcd4b0463f6bff08602afa928a3e7bc7\n",
            "Successfully built NVCCPlugin\n",
            "Installing collected packages: NVCCPlugin\n",
            "Successfully installed NVCCPlugin-0.0.2\n"
          ]
        }
      ]
    },
    {
      "cell_type": "code",
      "source": [
        "%load_ext nvcc_plugin"
      ],
      "metadata": {
        "colab": {
          "base_uri": "https://localhost:8080/"
        },
        "id": "ILXyTwR-TdV9",
        "outputId": "b7b37240-16d9-428c-b3e9-4b093a524fcc"
      },
      "execution_count": 2,
      "outputs": [
        {
          "output_type": "stream",
          "name": "stdout",
          "text": [
            "created output directory at /content/src\n",
            "Out bin /content/result.out\n"
          ]
        }
      ]
    },
    {
      "cell_type": "code",
      "source": [
        "%%cu\n",
        "#include<iostream>\n",
        "using namespace std;\n",
        "\n",
        "__global__ void add(int * a, int* b , int *c, int size)\n",
        "{\n",
        "    int i = blockIdx.x * blockDim.x + threadIdx.x;\n",
        "    if(i < size){\n",
        "        c[i] = b[i]+a[i];\n",
        "    }\n",
        "}\n",
        "\n",
        "__managed__ int vector_a[256], vector_b[256], vector_c[256];\n",
        "\n",
        "\n",
        "int main()\n",
        "{\n",
        "    for(int i=0;i<256;i++)\n",
        "    {\n",
        "        vector_a[i] = i;\n",
        "        vector_b[i] = 256-i;\n",
        "\n",
        "    }\n",
        "    add<<<1,256>>>(vector_a,vector_b,vector_c,256);\n",
        "    cudaDeviceSynchronize();\n",
        "\n",
        "    for(int i=0;i<256;i++)\n",
        "    {\n",
        "        cout<<vector_c[i]<<\" \";\n",
        "    }\n",
        " return 0;\n",
        "}"
      ],
      "metadata": {
        "colab": {
          "base_uri": "https://localhost:8080/"
        },
        "id": "nZp7jwEmTjpS",
        "outputId": "32c3d239-ff9b-42e5-c197-f3c99a810907"
      },
      "execution_count": 3,
      "outputs": [
        {
          "output_type": "stream",
          "name": "stdout",
          "text": [
            "256 256 256 256 256 256 256 256 256 256 256 256 256 256 256 256 256 256 256 256 256 256 256 256 256 256 256 256 256 256 256 256 256 256 256 256 256 256 256 256 256 256 256 256 256 256 256 256 256 256 256 256 256 256 256 256 256 256 256 256 256 256 256 256 256 256 256 256 256 256 256 256 256 256 256 256 256 256 256 256 256 256 256 256 256 256 256 256 256 256 256 256 256 256 256 256 256 256 256 256 256 256 256 256 256 256 256 256 256 256 256 256 256 256 256 256 256 256 256 256 256 256 256 256 256 256 256 256 256 256 256 256 256 256 256 256 256 256 256 256 256 256 256 256 256 256 256 256 256 256 256 256 256 256 256 256 256 256 256 256 256 256 256 256 256 256 256 256 256 256 256 256 256 256 256 256 256 256 256 256 256 256 256 256 256 256 256 256 256 256 256 256 256 256 256 256 256 256 256 256 256 256 256 256 256 256 256 256 256 256 256 256 256 256 256 256 256 256 256 256 256 256 256 256 256 256 256 256 256 256 256 256 256 256 256 256 256 256 256 256 256 256 256 256 256 256 256 256 256 256 256 256 256 256 256 256 \n"
          ]
        }
      ]
    },
    {
      "cell_type": "code",
      "source": [
        "%%cu\n",
        "#include<iostream>\n",
        "using namespace std;\n",
        "\n",
        "__global__ void multiply(int* A, int* B, int* C, int size) {\n",
        "    int row = blockIdx.y * blockDim.y + threadIdx.y;\n",
        "    int col = blockIdx.x * blockDim.x + threadIdx.x;\n",
        "\n",
        "    if (row < size && col < size) {\n",
        "        int sum = 0;\n",
        "        for (int i = 0; i < size; i++) {\n",
        "            sum += A[row * size + i] * B[i * size + col];\n",
        "        }\n",
        "        C[row * size + col] = sum;\n",
        "    }\n",
        "}\n",
        "\n",
        "__managed__ int matA[9], matB[9], matC[9];  // Corrected to hold 3x3 matrices\n",
        "\n",
        "void print(int* matrix, int size) {\n",
        "    for (int row = 0; row < size; row++) {\n",
        "        for (int col = 0; col < size; col++) {\n",
        "            cout << matrix[row * size + col] << \" \";\n",
        "        }\n",
        "        cout << '\\n';\n",
        "    }\n",
        "    cout << '\\n';\n",
        "}\n",
        "\n",
        "int main()\n",
        "{\n",
        "    int N = 3;  // Size of the matrix (3x3)\n",
        "    for(int i = 0; i < N*N; i++) {\n",
        "        matA[i] = rand() % 10 + 1;  // Random values between 1 and 10\n",
        "        matB[i] = rand() % 10 + 1;\n",
        "    }\n",
        "\n",
        "    cout << \"Matrix A:\" << endl;\n",
        "    print(matA, N);\n",
        "    cout << \"Matrix B:\" << endl;\n",
        "    print(matB, N);\n",
        "\n",
        "    // Define the number of threads per block and the number of blocks per grid dimension\n",
        "    dim3 threads(N, N);  // One thread for each element in the matrix\n",
        "    dim3 blocks(1, 1);   // Since N is manageable within a single block, we use one block\n",
        "\n",
        "    multiply<<<blocks, threads>>>(matA, matB, matC, N);\n",
        "    cudaDeviceSynchronize();  // Wait for the GPU to finish before accessing on host\n",
        "\n",
        "    cout << \"Resulting Matrix C:\" << endl;\n",
        "    print(matC, N);\n",
        "    return 0;\n",
        "}\n"
      ],
      "metadata": {
        "colab": {
          "base_uri": "https://localhost:8080/"
        },
        "id": "vxJeHtEzT0lh",
        "outputId": "9e447e0a-5d72-459c-a8b2-e1a785bc3c87"
      },
      "execution_count": 5,
      "outputs": [
        {
          "output_type": "stream",
          "name": "stdout",
          "text": [
            "Matrix A:\n",
            "4 8 4 \n",
            "7 10 3 \n",
            "1 4 1 \n",
            "\n",
            "Matrix B:\n",
            "7 6 6 \n",
            "3 2 8 \n",
            "10 7 7 \n",
            "\n",
            "Resulting Matrix C:\n",
            "92 68 116 \n",
            "109 83 143 \n",
            "29 21 45 \n",
            "\n",
            "\n"
          ]
        }
      ]
    },
    {
      "cell_type": "code",
      "source": [],
      "metadata": {
        "id": "LxSpZaKOUsrQ"
      },
      "execution_count": null,
      "outputs": []
    }
  ]
}